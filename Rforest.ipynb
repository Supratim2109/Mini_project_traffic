{
 "cells": [
  {
   "cell_type": "code",
   "execution_count": 11,
   "metadata": {
    "colab": {
     "base_uri": "https://localhost:8080/",
     "height": 281
    },
    "id": "AcoCQfeqpI7k",
    "outputId": "b5b670b5-f27d-4672-9dfa-a49279553ba5"
   },
   "outputs": [
    {
     "name": "stdout",
     "output_type": "stream",
     "text": [
      "Accuracy: 78.00%\n",
      "              precision    recall  f1-score   support\n",
      "\n",
      "           1       0.95      1.00      0.98        21\n",
      "           2       0.86      0.61      0.72        31\n",
      "           3       0.68      0.71      0.70        21\n",
      "           4       0.68      0.85      0.75        27\n",
      "\n",
      "    accuracy                           0.78       100\n",
      "   macro avg       0.79      0.79      0.79       100\n",
      "weighted avg       0.79      0.78      0.78       100\n",
      "\n"
     ]
    }
   ],
   "source": [
    "import pandas as pd\n",
    "import numpy as np\n",
    "import random\n",
    "from sklearn.ensemble import RandomForestClassifier\n",
    "from sklearn.model_selection import train_test_split\n",
    "from sklearn.metrics import accuracy_score, classification_report\n",
    "from sklearn.impute import SimpleImputer\n",
    "\n",
    "\n",
    "\n",
    "# Load the dataset\n",
    "df = pd.read_csv('processed_accidenta.csv')\n",
    "df=df.replace({\"Day\":0,\"Night\":1})\n",
    "\n",
    "# Prepare the data\n",
    "X = df.drop('Severity', axis=1)  # Features\n",
    "y = df['Severity']  # Target variable\n",
    "\n",
    "# Handle categorical features (one-hot encoding)\n",
    "X = pd.get_dummies(X, columns=['Weather_Condition', 'Wind_Direction'], drop_first=True)\n",
    "imputer = SimpleImputer(missing_values=np.nan, strategy='median')\n",
    "imputer.fit(X.iloc[1:,2:9])\n",
    "X.iloc[1:, 2:9] = imputer.transform(X.iloc[1:, 2:9])\n",
    "\n",
    "\n",
    "# Split the data into training and test sets\n",
    "X_train, X_test, y_train, y_test = train_test_split(X, y, test_size=0.01, random_state=42)\n",
    "\n",
    "\n",
    "# Train the model\n",
    "rf_model = RandomForestClassifier(n_estimators=100, random_state=42, class_weight='balanced')\n",
    "rf_model.fit(X_train, y_train)\n",
    "\n",
    "# Ensure X_test has the same columns as X_train (fill missing columns with 0)\n",
    "X_test = X_test.reindex(columns=X_train.columns, fill_value=0)\n",
    "\n",
    "# Predict on the test set\n",
    "y_pred = rf_model.predict(X_test)\n",
    "\n",
    "# Evaluate accuracy\n",
    "accuracy = accuracy_score(y_test, y_pred)\n",
    "print(f\"Accuracy: {accuracy * 100:.2f}%\")\n",
    "\n",
    "# Additional metrics (e.g., precision, recall, etc.)\n",
    "print(classification_report(y_test, y_pred))\n",
    "\n"
   ]
  },
  {
   "cell_type": "code",
   "execution_count": 225,
   "metadata": {},
   "outputs": [
    {
     "name": "stdout",
     "output_type": "stream",
     "text": [
      "      Unnamed: 0  Start_Lat   Start_Lng  Distance(mi)  Temperature(F)  \\\n",
      "7407        7407  41.062710  -73.862244         0.000            82.9   \n",
      "5892        5892  34.038456 -118.274010         0.000            50.0   \n",
      "5301        5301  44.999046  -93.089401         0.000             3.9   \n",
      "4808        4808  34.543423 -120.195586         0.000            56.0   \n",
      "8148        8148  30.193420  -81.730080         0.587            84.9   \n",
      "...          ...        ...         ...           ...             ...   \n",
      "9225        9225  33.846840 -118.317173         0.001            63.0   \n",
      "4859        4859  40.902904  -73.814853         0.219            79.0   \n",
      "3264        3264  39.481859 -119.787249         3.438            30.0   \n",
      "9845        9845  32.778130 -111.515470         2.038            61.0   \n",
      "2732        2732  28.607473  -81.393044         0.000            80.1   \n",
      "\n",
      "      Wind_Chill(F)  Humidity(%)  Pressure(in)  Visibility(mi)  \\\n",
      "7407           66.0         47.0         30.03            10.0   \n",
      "5892           66.0         29.0         29.85            10.0   \n",
      "5301          -15.6         73.0         30.44             5.0   \n",
      "4808           56.0         87.0         29.70            10.0   \n",
      "8148           66.0         67.0         30.13            10.0   \n",
      "...             ...          ...           ...             ...   \n",
      "9225           63.0         77.0         29.80            10.0   \n",
      "4859           79.0         58.0         29.88            10.0   \n",
      "3264           20.0         55.0         25.33            10.0   \n",
      "9845           61.0         39.0         28.33            10.0   \n",
      "2732           66.0         54.0         30.14            10.0   \n",
      "\n",
      "      Wind_Speed(mph)  ...  Wind_Direction_SSE  Wind_Direction_SSW  \\\n",
      "7407             11.5  ...               False               False   \n",
      "5892              5.8  ...               False               False   \n",
      "5301             17.3  ...               False               False   \n",
      "4808              0.0  ...               False               False   \n",
      "8148             12.7  ...               False               False   \n",
      "...               ...  ...                 ...                 ...   \n",
      "9225             10.0  ...               False               False   \n",
      "4859              5.0  ...               False               False   \n",
      "3264             14.0  ...               False               False   \n",
      "9845              0.0  ...               False               False   \n",
      "2732              6.9  ...               False               False   \n",
      "\n",
      "      Wind_Direction_SW  Wind_Direction_South  Wind_Direction_VAR  \\\n",
      "7407              False                  True               False   \n",
      "5892              False                 False               False   \n",
      "5301              False                 False               False   \n",
      "4808              False                 False               False   \n",
      "8148              False                 False               False   \n",
      "...                 ...                   ...                 ...   \n",
      "9225              False                 False               False   \n",
      "4859              False                 False               False   \n",
      "3264              False                 False               False   \n",
      "9845              False                 False               False   \n",
      "2732              False                 False               False   \n",
      "\n",
      "      Wind_Direction_Variable  Wind_Direction_W  Wind_Direction_WNW  \\\n",
      "7407                    False             False               False   \n",
      "5892                     True             False               False   \n",
      "5301                    False             False               False   \n",
      "4808                    False             False               False   \n",
      "8148                    False             False               False   \n",
      "...                       ...               ...                 ...   \n",
      "9225                    False             False               False   \n",
      "4859                    False             False               False   \n",
      "3264                    False             False               False   \n",
      "9845                    False             False               False   \n",
      "2732                    False             False               False   \n",
      "\n",
      "      Wind_Direction_WSW  Wind_Direction_West  \n",
      "7407               False                False  \n",
      "5892               False                False  \n",
      "5301               False                False  \n",
      "4808               False                False  \n",
      "8148               False                False  \n",
      "...                  ...                  ...  \n",
      "9225                True                False  \n",
      "4859               False                False  \n",
      "3264               False                False  \n",
      "9845               False                False  \n",
      "2732               False                False  \n",
      "\n",
      "[9900 rows x 48 columns] 7407    3\n",
      "5892    3\n",
      "5301    3\n",
      "4808    2\n",
      "8148    4\n",
      "       ..\n",
      "9225    4\n",
      "4859    2\n",
      "3264    2\n",
      "9845    4\n",
      "2732    2\n",
      "Name: Severity, Length: 9900, dtype: int64\n"
     ]
    }
   ],
   "source": [
    "print(X_train,y_train)"
   ]
  },
  {
   "cell_type": "code",
   "execution_count": 17,
   "metadata": {},
   "outputs": [],
   "source": [
    "import pickle\n",
    "\n",
    "# Save the model\n",
    "with open('traffic_model.pkl', 'wb') as file:\n",
    "    pickle.dump(rf_model, file)"
   ]
  },
  {
   "cell_type": "code",
   "execution_count": 13,
   "metadata": {},
   "outputs": [
    {
     "name": "stdout",
     "output_type": "stream",
     "text": [
      "Random Input 1: {'Temperature(F)': 39.64217916282335, 'Wind_Chill(F)': 16.69763007698097, 'Distance(mi)': 13.861453770560727, 'Humidity(%)': 71, 'Pressure(in)': 29.9900274023722, 'Visibility(mi)': 5.219927748471966, 'Wind_Speed(mph)': 42.01763200162629, 'Precipitation(in)': 0.9584384030645037, 'Amenity': 0, 'Bump': 1, 'Crossing': 0, 'Junction': 1, 'Station': 1, 'Stop': 1, 'Traffic_Signal': 0, 'Sunrise_Sunset': 1, 'Wind_Direction_CALM': 1, 'Wind_Direction_Calm': 1, 'Wind_Direction_E': 0, 'Wind_Direction_ENE': 0, 'Wind_Direction_ESE': 0, 'Wind_Direction_East': 1, 'Wind_Direction_N': 0, 'Wind_Direction_NE': 1, 'Wind_Direction_NNE': 1, 'Wind_Direction_NNW': 0, 'Wind_Direction_NW': 0, 'Wind_Direction_North': 1, 'Wind_Direction_S': 1, 'Wind_Direction_SE': 0, 'Wind_Direction_SSE': 1, 'Wind_Direction_SSW': 1, 'Wind_Direction_SW': 0, 'Wind_Direction_South': 1, 'Wind_Direction_VAR': 1, 'Wind_Direction_Variable': 1, 'Wind_Direction_W': 0, 'Wind_Direction_WNW': 1, 'Wind_Direction_WSW': 1, 'Wind_Direction_West': 0, 'Weather_Condition_Clear': 0, 'Weather_Condition_Cloudy': 0, 'Weather_Condition_Fog': 1, 'Weather_Condition_Freezing Conditions': 0, 'Weather_Condition_Rain': 1, 'Weather_Condition_Snow': 0, 'Weather_Condition_Thunderstorm': 0, 'Weather_Condition_Unknown': 1}\n",
      "Predicted Severity: Moderate\n",
      "\n",
      "Random Input 2: {'Temperature(F)': 43.093491129090246, 'Wind_Chill(F)': -38.13646309570201, 'Distance(mi)': 36.55875059845284, 'Humidity(%)': 36, 'Pressure(in)': 28.517054340729448, 'Visibility(mi)': 1.581023975393563, 'Wind_Speed(mph)': 43.21378975759957, 'Precipitation(in)': 0.8157445554891039, 'Amenity': 1, 'Bump': 0, 'Crossing': 1, 'Junction': 1, 'Station': 1, 'Stop': 0, 'Traffic_Signal': 0, 'Sunrise_Sunset': 1, 'Wind_Direction_CALM': 1, 'Wind_Direction_Calm': 1, 'Wind_Direction_E': 0, 'Wind_Direction_ENE': 0, 'Wind_Direction_ESE': 1, 'Wind_Direction_East': 0, 'Wind_Direction_N': 0, 'Wind_Direction_NE': 0, 'Wind_Direction_NNE': 1, 'Wind_Direction_NNW': 0, 'Wind_Direction_NW': 1, 'Wind_Direction_North': 0, 'Wind_Direction_S': 0, 'Wind_Direction_SE': 1, 'Wind_Direction_SSE': 1, 'Wind_Direction_SSW': 1, 'Wind_Direction_SW': 1, 'Wind_Direction_South': 1, 'Wind_Direction_VAR': 0, 'Wind_Direction_Variable': 0, 'Wind_Direction_W': 0, 'Wind_Direction_WNW': 1, 'Wind_Direction_WSW': 0, 'Wind_Direction_West': 1, 'Weather_Condition_Clear': 0, 'Weather_Condition_Cloudy': 1, 'Weather_Condition_Fog': 1, 'Weather_Condition_Freezing Conditions': 0, 'Weather_Condition_Rain': 1, 'Weather_Condition_Snow': 0, 'Weather_Condition_Thunderstorm': 1, 'Weather_Condition_Unknown': 0}\n",
      "Predicted Severity: Moderate\n",
      "\n",
      "Random Input 3: {'Temperature(F)': 83.70007820926861, 'Wind_Chill(F)': -9.242972403334242, 'Distance(mi)': 26.868538019810018, 'Humidity(%)': 88, 'Pressure(in)': 30.712175251958712, 'Visibility(mi)': 18.76602934824353, 'Wind_Speed(mph)': 2.9796453327539996, 'Precipitation(in)': 0.04863156247420104, 'Amenity': 0, 'Bump': 0, 'Crossing': 1, 'Junction': 1, 'Station': 0, 'Stop': 1, 'Traffic_Signal': 1, 'Sunrise_Sunset': 0, 'Wind_Direction_CALM': 1, 'Wind_Direction_Calm': 1, 'Wind_Direction_E': 1, 'Wind_Direction_ENE': 0, 'Wind_Direction_ESE': 1, 'Wind_Direction_East': 0, 'Wind_Direction_N': 1, 'Wind_Direction_NE': 1, 'Wind_Direction_NNE': 1, 'Wind_Direction_NNW': 1, 'Wind_Direction_NW': 0, 'Wind_Direction_North': 0, 'Wind_Direction_S': 0, 'Wind_Direction_SE': 0, 'Wind_Direction_SSE': 0, 'Wind_Direction_SSW': 1, 'Wind_Direction_SW': 0, 'Wind_Direction_South': 0, 'Wind_Direction_VAR': 1, 'Wind_Direction_Variable': 1, 'Wind_Direction_W': 1, 'Wind_Direction_WNW': 1, 'Wind_Direction_WSW': 0, 'Wind_Direction_West': 0, 'Weather_Condition_Clear': 1, 'Weather_Condition_Cloudy': 1, 'Weather_Condition_Fog': 0, 'Weather_Condition_Freezing Conditions': 0, 'Weather_Condition_Rain': 0, 'Weather_Condition_Snow': 1, 'Weather_Condition_Thunderstorm': 0, 'Weather_Condition_Unknown': 0}\n",
      "Predicted Severity: Moderate\n",
      "\n",
      "Random Input 4: {'Temperature(F)': 49.661575364520395, 'Wind_Chill(F)': 58.474176416512904, 'Distance(mi)': 68.96491613840084, 'Humidity(%)': 54, 'Pressure(in)': 28.890927197113104, 'Visibility(mi)': 4.026942316158015, 'Wind_Speed(mph)': 40.98753707866591, 'Precipitation(in)': 0.6716013600008125, 'Amenity': 1, 'Bump': 1, 'Crossing': 0, 'Junction': 0, 'Station': 0, 'Stop': 1, 'Traffic_Signal': 1, 'Sunrise_Sunset': 1, 'Wind_Direction_CALM': 0, 'Wind_Direction_Calm': 0, 'Wind_Direction_E': 1, 'Wind_Direction_ENE': 0, 'Wind_Direction_ESE': 1, 'Wind_Direction_East': 0, 'Wind_Direction_N': 1, 'Wind_Direction_NE': 0, 'Wind_Direction_NNE': 1, 'Wind_Direction_NNW': 0, 'Wind_Direction_NW': 0, 'Wind_Direction_North': 1, 'Wind_Direction_S': 0, 'Wind_Direction_SE': 0, 'Wind_Direction_SSE': 1, 'Wind_Direction_SSW': 1, 'Wind_Direction_SW': 1, 'Wind_Direction_South': 1, 'Wind_Direction_VAR': 0, 'Wind_Direction_Variable': 1, 'Wind_Direction_W': 1, 'Wind_Direction_WNW': 0, 'Wind_Direction_WSW': 0, 'Wind_Direction_West': 1, 'Weather_Condition_Clear': 1, 'Weather_Condition_Cloudy': 0, 'Weather_Condition_Fog': 1, 'Weather_Condition_Freezing Conditions': 1, 'Weather_Condition_Rain': 0, 'Weather_Condition_Snow': 0, 'Weather_Condition_Thunderstorm': 0, 'Weather_Condition_Unknown': 0}\n",
      "Predicted Severity: Severe\n",
      "\n",
      "Random Input 5: {'Temperature(F)': 72.7011512342527, 'Wind_Chill(F)': -18.903039547647086, 'Distance(mi)': 69.12303257110109, 'Humidity(%)': 61, 'Pressure(in)': 29.695373601413745, 'Visibility(mi)': 17.33890625927674, 'Wind_Speed(mph)': 27.152035542794188, 'Precipitation(in)': 0.2743026361426179, 'Amenity': 0, 'Bump': 1, 'Crossing': 0, 'Junction': 0, 'Station': 0, 'Stop': 0, 'Traffic_Signal': 0, 'Sunrise_Sunset': 1, 'Wind_Direction_CALM': 0, 'Wind_Direction_Calm': 0, 'Wind_Direction_E': 1, 'Wind_Direction_ENE': 0, 'Wind_Direction_ESE': 0, 'Wind_Direction_East': 0, 'Wind_Direction_N': 1, 'Wind_Direction_NE': 1, 'Wind_Direction_NNE': 1, 'Wind_Direction_NNW': 1, 'Wind_Direction_NW': 0, 'Wind_Direction_North': 1, 'Wind_Direction_S': 1, 'Wind_Direction_SE': 1, 'Wind_Direction_SSE': 0, 'Wind_Direction_SSW': 0, 'Wind_Direction_SW': 0, 'Wind_Direction_South': 0, 'Wind_Direction_VAR': 1, 'Wind_Direction_Variable': 0, 'Wind_Direction_W': 1, 'Wind_Direction_WNW': 0, 'Wind_Direction_WSW': 0, 'Wind_Direction_West': 0, 'Weather_Condition_Clear': 1, 'Weather_Condition_Cloudy': 1, 'Weather_Condition_Fog': 1, 'Weather_Condition_Freezing Conditions': 1, 'Weather_Condition_Rain': 0, 'Weather_Condition_Snow': 1, 'Weather_Condition_Thunderstorm': 0, 'Weather_Condition_Unknown': 1}\n",
      "Predicted Severity: Severe\n",
      "\n"
     ]
    }
   ],
   "source": [
    "import random\n",
    "import pandas as pd\n",
    "\n",
    "# Function to generate random input (same as before)\n",
    "def generate_random_input():\n",
    "    random_input = {\n",
    "        'Temperature(F)': random.uniform(-30, 110),\n",
    "        'Wind_Chill(F)': random.uniform(-50, 100),\n",
    "        'Distance(mi)':random.uniform(0,100),\n",
    "        'Humidity(%)': random.randint(0, 100),\n",
    "        'Pressure(in)': random.uniform(28, 31),\n",
    "        'Visibility(mi)': random.uniform(1, 20),\n",
    "        'Wind_Speed(mph)': random.uniform(0, 60),\n",
    "        'Precipitation(in)': random.uniform(0, 1),\n",
    "        'Amenity': random.choice([0, 1]),\n",
    "        'Bump': random.choice([0, 1]),\n",
    "        'Crossing': random.choice([0, 1]),\n",
    "        'Junction': random.choice([0, 1]),\n",
    "        'Station': random.choice([0, 1]),\n",
    "        'Stop': random.choice([0, 1]),\n",
    "        'Traffic_Signal': random.choice([0, 1]),\n",
    "        'Sunrise_Sunset': random.choice([0, 1]),\n",
    "        'Wind_Direction_CALM': random.choice([0, 1]),\n",
    "        'Wind_Direction_Calm': random.choice([0, 1]),\n",
    "        'Wind_Direction_E': random.choice([0, 1]),\n",
    "        'Wind_Direction_ENE': random.choice([0, 1]),\n",
    "        'Wind_Direction_ESE': random.choice([0, 1]),\n",
    "        'Wind_Direction_East': random.choice([0, 1]),\n",
    "        'Wind_Direction_N': random.choice([0, 1]),\n",
    "        'Wind_Direction_NE': random.choice([0, 1]),\n",
    "        'Wind_Direction_NNE': random.choice([0, 1]),\n",
    "        'Wind_Direction_NNW': random.choice([0, 1]),\n",
    "        'Wind_Direction_NW': random.choice([0, 1]),\n",
    "        'Wind_Direction_North': random.choice([0, 1]),\n",
    "        'Wind_Direction_S': random.choice([0, 1]),\n",
    "        'Wind_Direction_SE': random.choice([0, 1]),\n",
    "        'Wind_Direction_SSE': random.choice([0, 1]),\n",
    "        'Wind_Direction_SSW': random.choice([0, 1]),\n",
    "        'Wind_Direction_SW': random.choice([0, 1]),\n",
    "        'Wind_Direction_South': random.choice([0, 1]),\n",
    "        'Wind_Direction_VAR': random.choice([0, 1]),\n",
    "        'Wind_Direction_Variable': random.choice([0, 1]),\n",
    "        'Wind_Direction_W': random.choice([0, 1]),\n",
    "        'Wind_Direction_WNW': random.choice([0, 1]),\n",
    "        'Wind_Direction_WSW': random.choice([0, 1]),\n",
    "        'Wind_Direction_West': random.choice([0, 1]),\n",
    "        'Weather_Condition_Clear': random.choice([0, 1]),\n",
    "        'Weather_Condition_Cloudy': random.choice([0, 1]),\n",
    "        'Weather_Condition_Fog': random.choice([0, 1]),\n",
    "        'Weather_Condition_Freezing Conditions': random.choice([0, 1]),\n",
    "        'Weather_Condition_Rain': random.choice([0, 1]),\n",
    "        'Weather_Condition_Snow': random.choice([0, 1]),\n",
    "        'Weather_Condition_Thunderstorm': random.choice([0, 1]),\n",
    "        'Weather_Condition_Unknown': random.choice([0, 1])\n",
    "    }\n",
    "\n",
    "    if random.random() < 0.33:  # 33% chance for \"Light\"\n",
    "        random_input['Temperature(F)'] = random.uniform(70, 100)\n",
    "        random_input['Precipitation(in)'] = random.uniform(0, 0.1)\n",
    "        random_input['Wind_Speed(mph)'] = random.uniform(0, 20)\n",
    "    elif random.random() < 0.33:  # 33% chance for \"Moderate\"\n",
    "        random_input['Temperature(F)'] = random.uniform(50, 80)\n",
    "        random_input['Precipitation(in)'] = random.uniform(0.1, 0.3)\n",
    "        random_input['Wind_Speed(mph)'] = random.uniform(20, 40)\n",
    "    else:  # 33% chance for \"Severe\"\n",
    "        random_input['Temperature(F)'] = random.uniform(30, 50)\n",
    "        random_input['Precipitation(in)'] = random.uniform(0.5, 1)\n",
    "        random_input['Wind_Speed(mph)'] = random.uniform(40, 60)\n",
    "\n",
    "    return random_input\n",
    "\n",
    "# Function to preprocess input data\n",
    "def preprocess_input(input_data):\n",
    "    input_df = pd.DataFrame([input_data])\n",
    "    input_df = input_df.reindex(columns=X_train.columns, fill_value=0)\n",
    "    return input_df\n",
    "\n",
    "# Function to predict severity\n",
    "def predict_severity(input_data):\n",
    "    preprocessed_data = preprocess_input(input_data)\n",
    "    prediction = rf_model.predict(preprocessed_data)\n",
    "    severity_map = {1: 'Light', 2: 'Moderate', 3: 'Severe',4: 'Severe'}\n",
    "    severity = severity_map.get(prediction[0], 'Unknown')\n",
    "    return severity\n",
    "\n",
    "# Generate a random input and predict the severity\n",
    "for i in range(5):  # Predict 5 times with different random inputs\n",
    "    random_input = generate_random_input()  # Generate a random input\n",
    "    predicted_severity = predict_severity(random_input)  # Predict the severity\n",
    "    print(f\"Random Input {i+1}: {random_input}\")\n",
    "    print(f\"Predicted Severity: {predicted_severity}\\n\")"
   ]
  },
  {
   "cell_type": "code",
   "execution_count": 15,
   "metadata": {
    "colab": {
     "base_uri": "https://localhost:8080/",
     "height": 487
    },
    "id": "Rh6T6mpOyorn",
    "outputId": "0a046d57-6315-4bc6-e254-90c29dd07b3a"
   },
   "outputs": [
    {
     "data": {
      "image/png": "[encoded data removed]",
      "text/plain": [
       "<Figure size 800x500 with 1 Axes>"
      ]
     },
     "metadata": {},
     "output_type": "display_data"
    }
   ],
   "source": [
    "import matplotlib.pyplot as plt\n",
    "\n",
    "# Function to predict multiple times and collect results\n",
    "def predict_multiple_times(num_predictions=100):\n",
    "    predictions = []\n",
    "\n",
    "    for _ in range(num_predictions):\n",
    "        random_input = generate_random_input()\n",
    "        predicted_severity = predict_severity(random_input)\n",
    "        predictions.append(predicted_severity)\n",
    "\n",
    "    # Plot the distribution of predictions\n",
    "    plt.figure(figsize=(8, 5))\n",
    "    plt.hist(predictions, bins=4, edgecolor='black', align='mid')\n",
    "    plt.title(f'Distribution of Predictions (n={num_predictions})')\n",
    "    plt.xlabel('Severity')\n",
    "    plt.ylabel('Count')\n",
    "    plt.xticks(['1', '2', '3','4'])\n",
    "    plt.show()\n",
    "\n",
    "# Run and visualize the prediction distribution for 100 iterations\n",
    "predict_multiple_times(100)\n"
   ]
  },
  {
   "cell_type": "code",
   "execution_count": 275,
   "metadata": {},
   "outputs": [],
   "source": [
    "\n",
    "from joblib import dump"
   ]
  },
  {
   "cell_type": "code",
   "execution_count": 21,
   "metadata": {},
   "outputs": [
    {
     "data": {
      "text/plain": [
       "['random_forest_model.joblib']"
      ]
     },
     "execution_count": 21,
     "metadata": {},
     "output_type": "execute_result"
    }
   ],
   "source": [
    "dump(rf_model, 'random_forest_model.joblib')"
   ]
  },
  {
   "cell_type": "code",
   "execution_count": 299,
   "metadata": {},
   "outputs": [
    {
     "data": {
      "text/plain": [
       "Index(['Unnamed: 0', 'Start_Lat', 'Start_Lng', 'Temperature(F)',\n",
       "       'Wind_Chill(F)', 'Humidity(%)', 'Pressure(in)', 'Visibility(mi)',\n",
       "       'Wind_Speed(mph)', 'Precipitation(in)', 'Amenity', 'Bump', 'Crossing',\n",
       "       'Junction', 'Station', 'Stop', 'Traffic_Signal', 'Sunrise_Sunset',\n",
       "       'Weather_Condition_Cloudy', 'Weather_Condition_Fog',\n",
       "       'Weather_Condition_Freezing Conditions', 'Weather_Condition_Rain',\n",
       "       'Weather_Condition_Snow', 'Weather_Condition_Thunderstorm',\n",
       "       'Wind_Direction_Calm', 'Wind_Direction_E', 'Wind_Direction_ENE',\n",
       "       'Wind_Direction_ESE', 'Wind_Direction_East', 'Wind_Direction_N',\n",
       "       'Wind_Direction_NE', 'Wind_Direction_NNE', 'Wind_Direction_NNW',\n",
       "       'Wind_Direction_NW', 'Wind_Direction_North', 'Wind_Direction_S',\n",
       "       'Wind_Direction_SE', 'Wind_Direction_SSE', 'Wind_Direction_SSW',\n",
       "       'Wind_Direction_SW', 'Wind_Direction_South', 'Wind_Direction_VAR',\n",
       "       'Wind_Direction_Variable', 'Wind_Direction_W', 'Wind_Direction_WNW',\n",
       "       'Wind_Direction_WSW', 'Wind_Direction_West'],\n",
       "      dtype='object')"
      ]
     },
     "execution_count": 299,
     "metadata": {},
     "output_type": "execute_result"
    }
   ],
   "source": [
    "X_train.columns"
   ]
  },
  {
   "cell_type": "code",
   "execution_count": null,
   "metadata": {},
   "outputs": [],
   "source": []
  }
 ],
 "metadata": {
  "accelerator": "GPU",
  "colab": {
   "gpuType": "T4",
   "provenance": []
  },
  "kernelspec": {
   "display_name": "Python 3 (ipykernel)",
   "language": "python",
   "name": "python3"
  },
  "language_info": {
   "codemirror_mode": {
    "name": "ipython",
    "version": 3
   },
   "file_extension": ".py",
   "mimetype": "text/x-python",
   "name": "python",
   "nbconvert_exporter": "python",
   "pygments_lexer": "ipython3",
   "version": "3.12.3"
  }
 },
 "nbformat": 4,
 "nbformat_minor": 4
}
